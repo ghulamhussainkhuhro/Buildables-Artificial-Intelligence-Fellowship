{
 "cells": [
  {
   "cell_type": "markdown",
   "id": "a6448e9f-6263-4de2-a208-a8f8d05f5db5",
   "metadata": {},
   "source": [
    "# Notebook 1: Start Writing Prompts Like a Pro"
   ]
  },
  {
   "cell_type": "markdown",
   "id": "13a6eec2-d26f-40ee-a5e1-5f63e562d83e",
   "metadata": {},
   "source": [
    "## **Prompt Engineering Quiz **\n",
    "\n",
    "### Question 1\n",
    "**What is prompting?**  \n",
    "Answer: basically its just the way we tell ai what to do… like giving it instructions in natural language so it knows what kinda output we want\n",
    "\n",
    "### Question 2\n",
    "**In the following prompt, which part describes the primary task?**  \n",
    "Prompt: *“Explain how car batteries work using non-technical language that someone without any mechanical knowledge could understand and interpret.”*  \n",
    "Answer: the primary task is “explain how car batteries work” … the rest is just extra details about style n audience\n",
    "\n",
    "### Question 3\n",
    "**When you are using a gen AI tool to create a healthy three-course menu that requires a certain number of calories, which prompting element will ensure the menu is more practical?**  \n",
    "Answer: that would be the constraints/context (like the calorie requirement) … coz without that its just random menu\n",
    "\n",
    "### Question 4\n",
    "**Prompting with audio to receive a visual representation is called what?**  \n",
    "Answer: thats multimodal prompting (using one type of input like audio to get another like image)\n",
    "\n",
    "### Question 5\n",
    "**What does a human-in-the-loop approach to prompting emphasize?**  \n",
    "Answer: it means u always keep a human checking, like verifying ai output n making sure its correct n ethical before using it\n",
    "\n",
    "### Question 6\n",
    "**When the initial prompt \"Create a dataset\" is too broad, what should you do to refine it?**  \n",
    "Answer: make it more specific… like add details about what kinda dataset, how many rows, what fields, what format etc so ai knows exactly what to make\n"
   ]
  },
  {
   "cell_type": "code",
   "execution_count": null,
   "id": "d7174e6b-88b2-451a-8ded-41503a7b53a1",
   "metadata": {},
   "outputs": [],
   "source": []
  }
 ],
 "metadata": {
  "kernelspec": {
   "display_name": "Python 3 (ipykernel)",
   "language": "python",
   "name": "python3"
  },
  "language_info": {
   "codemirror_mode": {
    "name": "ipython",
    "version": 3
   },
   "file_extension": ".py",
   "mimetype": "text/x-python",
   "name": "python",
   "nbconvert_exporter": "python",
   "pygments_lexer": "ipython3",
   "version": "3.11.9"
  }
 },
 "nbformat": 4,
 "nbformat_minor": 5
}
