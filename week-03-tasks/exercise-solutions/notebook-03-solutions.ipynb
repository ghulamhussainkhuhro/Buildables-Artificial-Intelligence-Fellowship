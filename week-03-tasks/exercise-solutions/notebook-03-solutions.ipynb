{
 "cells": [
  {
   "cell_type": "markdown",
   "id": "a13a4e75-3025-4882-8f46-fac4a4c7615b",
   "metadata": {},
   "source": [
    "# Notebook 3 ✨ Use AI as a creative or expert partner 😎 ✨"
   ]
  },
  {
   "cell_type": "markdown",
   "id": "2373fb71-09dd-4d5b-8fef-34e885c863af",
   "metadata": {},
   "source": [
    "### 📝 Questions for Reflection\n",
    "1. How is prompt chaining similar to solving a jigsaw puzzle?  \n",
    "like a jigsaw each prompt is a piece you fit together, i break big jobs into extract → summarize → assemble steps and fix only the broken piece when something wrong, i do this with RAG flows using LangChain and FAISS\n",
    "\n",
    "2. What’s the main difference between **iteration** and **chaining**?  \n",
    "iteration = tweak the same prompt till its ok, chaining = make many small linked prompts and feed outputs forward, chaining is how i build pipelines like outline → sources → draft\n",
    "\n",
    "3. Why might prompt chaining be more effective than asking AI one big question?  \n",
    "one big ask gives long messy output thats hard to control, chaining gives checkpoints so i verify sources, catch errors early and reuse intermediates\n",
    "\n",
    "4. How can the **context window** of an AI model affect your chaining strategy?  \n",
    "if model window is small i chunk inputs and persist results in a vector DB then retrieve whats needed, if window is big i keep more steps inline so fewer external calls, i usually use LangChain + vector store to manage this"
   ]
  },
  {
   "cell_type": "markdown",
   "id": "e1fa40a7-5b21-402e-adb1-8dd4eb8a8ab9",
   "metadata": {},
   "source": [
    "##  Exercises : Try It Yourself ❗\n",
    "\n",
    "### Exercise 1: Email Catch-Up\n",
    "\n",
    "Imagine you were away from work for a week. Create a **prompt chain** that does the following:\n",
    "\n",
    "1. Summarizes all your emails.\n",
    "2. Highlights urgent tasks.\n",
    "3. Suggests solutions for the most critical issue.\n",
    "\n",
    "Prompt 1: summarize all my emails from last 7 days into few short points.  \n",
    "Prompt 2: from that summary pick out only the urgent tasks that i need to do first.  \n",
    "Prompt 3: for the most serious issue tell me 2 solutions that are practical to fix it fast.  \n",
    "\n",
    "\n",
    "### Exercise 2: Research Assistant\n",
    "\n",
    "You’re writing a research paper. Design a chain of prompts to:\n",
    "\n",
    "1. Generate an outline of your paper.\n",
    "2. Suggest three key studies you should cite.\n",
    "3. Draft a short introduction based on the outline and studies.\n",
    "\n",
    "Prompt 1: make outline of research paper on how AI is changing education.  \n",
    "Prompt 2: suggest 3 important studies or papers that i can use in my topic.  \n",
    "Prompt 3: write a small intro para using the outline and those studies combined.  \n",
    "\n",
    "\n",
    "### Exercise 3: Business Idea Pitch\n",
    "\n",
    "Pretend you want to launch a new mobile app. Build a prompt chain that:\n",
    "\n",
    "1. Creates a one-sentence pitch.\n",
    "2. Expands it into a short paragraph describing the target audience.\n",
    "3. Generates a three-slide pitch deck outline for investors.\n",
    "\n",
    "Prompt 1: write one line pitch for app that tracks students daily study habits.  \n",
    "Prompt 2: now expand that into few lines explaining who is target audience and how it helps them.  \n",
    "Prompt 3: make 3 slide outline for investor pitch on this app idea.  \n"
   ]
  },
  {
   "cell_type": "markdown",
   "id": "519243fd-397f-452f-b696-a809bc7dfd8c",
   "metadata": {},
   "source": [
    "## ✨ Explore Chain-of-Thought and Tree-of-Thought Prompting 😎 ✨"
   ]
  },
  {
   "cell_type": "markdown",
   "id": "0f6606d0-fe53-4cb7-af24-6b9c8af2f150",
   "metadata": {},
   "source": [
    "### Exercise: Try It Yourself ❗\n",
    "1. Think of a **complex decision** (e.g., project planning, resource allocation).  \n",
    "2. Write a prompt asking AI to solve it with **step-by-step reasoning**.  \n",
    "   - Example: *“Help me allocate a $10,000 marketing budget across three channels. Explain your reasoning step-by-step.”*  \n",
    "3. Review the output and tweak the prompt if needed (e.g., add constraints like time or audience)."
   ]
  },
  {
   "cell_type": "markdown",
   "id": "0c8415bc-71ab-4549-9718-ea455d9b2603",
   "metadata": {},
   "source": [
    "prompt 1: help me plan sindhugpt mvp with $3,300 and 3 months. give broad steps to launch and what to prioritise. explain step by step."
   ]
  },
  {
   "cell_type": "markdown",
   "id": "3268ba4b-dd86-45f1-9203-32b25d7ee797",
   "metadata": {},
   "source": [
    "prompt 2: you are a product ops analyst. we are building sindhugpt mvp with $3,300 and 3 months. list major components (data, stt, tts, infra, mobile, qa, outreach) and give 2-3 bullet tasks per component with rough priority order. explain briefly why each matters."
   ]
  },
  {
   "cell_type": "markdown",
   "id": "9a789b8e-b261-42a9-a9a4-b1b0a62652fb",
   "metadata": {},
   "source": [
    "prompt 3: you are an experienced project planner. for sindhugpt mvp (seed 3,300, 3 months) list assumptions (annotator hourly rate, cloud gpu $/hr, dev hourly rates), then estimate cost ranges for: data collection & annotation, model fine-tuning, tts voice dev, infra & api, mobile prototype, qa & beta recruitment, community outreach. show a quick calculation per line and subtotal. explain your reasoning step by step."
   ]
  },
  {
   "cell_type": "markdown",
   "id": "941bae1e-d8f7-41f4-8930-70271f873ddc",
   "metadata": {},
   "source": [
    "prompt 4: act like a startup finance advisor. propose 3 budget allocation scenarios for sindhugpt with $3,300: conservative, balanced, aggressive. for each scenario give exact usd amounts per component (data, fine-tune, tts, infra, mobile, qa, marketing), approximate PKR conversion, list 4 execution steps with timeline (weeks) and assign owners (ghulam / abbas / g mustafa). finish with main risk and one mitigation per scenario and one metric to track.\n",
    "explain how you chose numbers step by step."
   ]
  },
  {
   "cell_type": "markdown",
   "id": "ceb35f62-2763-48d1-9495-515e589379c3",
   "metadata": {},
   "source": [
    "prompt 5: you are a product + ops strategist. we have $3,300 and 3 months to build sindhugpt mvp (goal: whisper-tuned sindhi stt, one natural sindhi tts voice, simple android prototype, backend + 500 beta users).\n",
    "\n",
    "state assumptions (annotator rate, cloud gpu $/hr, dev rate)\n",
    "\n",
    "break project into weekly milestones (week 1..12) with tasks and estimated hours per owner (ghulam, abbas, g mustafa)\n",
    "\n",
    "give exact budget breakdown per milestone and per component (usd + approx PKR)\n",
    "\n",
    "propose 3 budget options (conservative / balanced / aggressive) with amounts and expected deliverables\n",
    "\n",
    "for the balanced option give 8 immediate actions for first 48 hours with owners and est hours\n",
    "\n",
    "show calculations and tradeoffs and explain your reasoning step-by-step so i can paste into team notes"
   ]
  },
  {
   "cell_type": "markdown",
   "id": "e5af0bf6-c10c-4cb7-80a4-67f2d4e92239",
   "metadata": {},
   "source": [
    "### Exercise: Try It Yourself ❗\n",
    "1. Pick a **creative or abstract problem** (e.g., designing a campaign, brainstorming product features).  \n",
    "2. Write a prompt asking AI to explore **multiple solutions** and evaluate them.  \n",
    "   - Example: *“Propose three marketing strategies for a new app launch. Evaluate each for cost, reach, and impact.”*  \n",
    "3. Review the output and iterate to refine (e.g., focus on one path or add constraints).  \n",
    "\n",
    "📌 **Key Takeaway:**  \n",
    "ToT prompting unlocks creative solutions by exploring multiple paths, ensuring you find the most effective ideas."
   ]
  },
  {
   "cell_type": "markdown",
   "id": "9758aa81-9529-4ef7-99a0-d9c0bffbbb44",
   "metadata": {},
   "source": [
    "1. give me ideas for sindhugpt launch strategies and pick best ones\n",
    "2. list 3 different directions we can take sindhugpt for mvp (data first, product first, partnership). for each give one sentence idea and one pro one con\n",
    "3. you are a startup strategist. for sindhugpt with $3,300 and 3 months, explore 3 branches: data-first, product-first, partner-first.\n",
    "for each branch provide:\n",
    "- short description (1 line)\n",
    "- step plan (bullets)\n",
    "- main risk and one mitigation\n",
    "- one metric to track\n",
    "- finally recommend which branch is fastest to mvp\n",
    "4. act like a tree-of-thought planner. generate 3 strategy trees for sindhugpt (data-heavy, tts-focus, partnership-led).\n",
    "for each tree show 3 sub-paths, and for every sub-path give:\n",
    "- budget split (usd per component)\n",
    "- timeline in weeks\n",
    "- execution steps with owner (ghulam/abbas/gmustafa)\n",
    "- expected deliverable and main risk + mitigation\n",
    "- after all trees, compare them by speed, cost-risk, and community reach and pick best for a small 3 person team\n",
    "\n",
    "5. you are a ToT strategist for sindhugpt. we have $3,300 and 3 months to mvp (whisper-tuned sindhi stt, 1 sindhi tts voice, basic android prototype, 500 beta users).\n",
    "   1. produce 4 high-level branches (eg data-first, product-lean, partner-accelerate, hybrid) and for each branch expand 3 sub-paths\n",
    "   2. for every sub-path give exact budget allocation per component (data, fine-tune, tts, infra, app, qa, outreach) in usd, and approx PKR\n",
    "   3. provide week-by-week tasks for weeks 1-12, assign owners and est hours per task\n",
    "   4. list success metric, main risk and fallback option if sub-path fails\n",
    "   5. evaluate all sub-paths with a small decision table (speed to market, cost risk, user trust, scalability)\n",
    "   6. recommend the single best sub-path and show the thought-tree that led to that pick (step-by-step reasoning)\n",
    "   7. finish with 7 immediate actions to start this week with owners and est hours\n",
    "\n",
    "ask clarifying q if any assumption unclear, and show calculations and tradeoffs in the output"
   ]
  },
  {
   "cell_type": "markdown",
   "id": "b74b9d3b-d5fc-4814-a59d-2672c4b26234",
   "metadata": {},
   "source": [
    "## **Practice Advanced Prompting Techniques**"
   ]
  },
  {
   "cell_type": "markdown",
   "id": "a9a9f4e8-c7ca-44c3-bcef-6f0ab6ba8640",
   "metadata": {},
   "source": [
    "\n",
    "Practice Advanced Prompting Techniques\n",
    "\n",
    "#### Exercise 1: CoT for Decision-Making\n",
    "Write a prompt for a work-related decision (e.g., prioritizing tasks, choosing vendors). Ask AI to explain its reasoning step-by-step.  \n",
    "Example: *“Help me choose between two software vendors. Explain your reasoning for each step.”*\n",
    "\n",
    "A:\n",
    "you are an experienced product and ops analyst. i'm building SindhuGPT and need to choose where to spend an extra \\$1,500 of our \\$3,300 seed for the mvp. choose between:\n",
    "option A: collect + annotate 200 more hours of sindhi speech (better stt data)\n",
    "option B: hire a voice artist + engineer time to polish one high-quality sindhi tts voice\n",
    "\n",
    "please explain your reasoning step-by-step.\n",
    "\n",
    "1. list all assumptions (annotator hourly rate, voice actor fee, cloud gpu \\$/hr, engineers rate)\n",
    "2. for each option show cost breakdown, timeline impact (weeks), expected improvement on key metrics (wer for stt, mos or naturalness for tts), and user experience impact\n",
    "3. list 3 risks and 1 mitigation for each option\n",
    "4. give a final recommendation and justify in 2 short paragraphs\n",
    "5. add 5 immediate actions to start in next 48 hours and assign owners (ghulam, abbas, g mustafa)\n",
    "\n",
    "#### Exercise 2: ToT for Creative Brainstorming\n",
    "Write a prompt for a creative task (e.g., campaign ideas, product features). Ask AI to propose multiple solutions and evaluate them.  \n",
    "Example: *“Suggest three themes for a company retreat. Evaluate each for engagement and cost.”*\n",
    "\n",
    "A:\n",
    "you are a strategy explorer. for SindhuGPT propose 3 distinct launch campaign paths (community-first, creator-first, partner-first).\n",
    "for each path:\n",
    "\n",
    "* give a 1 line name + short description\n",
    "* list 4 sub-paths/ideas (like community contests, radio spots, school programs, NGO pilots)\n",
    "* for every sub-path estimate rough cost, reach, time to run, main risk and one mitigation\n",
    "* evaluate each path for speed to users, trust building in community, and cost efficiency (rank high/med/low)\n",
    "  after all 3, recommend the best path for a 3-person team focused on fast mvp and trust, and give 5 starting tasks with owners\n",
    "\n",
    "#### Exercise 3: Combine CoT and ToT\n",
    "Write a prompt that uses ToT to explore options and CoT to refine the best one.  \n",
    "Example: *“Propose three product launch ideas, evaluate them, then provide a step-by-step plan for the best one.”*\n",
    "\n",
    "A:\n",
    "you are a product strategist and planner. for SindhuGPT do the following:\n",
    "\n",
    "1. using tree-of-thought explore 3 launch ideas (local community pilot with ngos, creator toolkit for content creators, api-first for enterprises). for each idea give 3 sub-paths and short pros/cons\n",
    "2. evaluate and pick the single best idea for quick impact and trust\n",
    "3. now use chain-of-thought to make a detailed step-by-step execution plan for the picked idea:\n",
    "\n",
    "   * list weekly milestones for 8 weeks with tasks, estimated hours and owners (ghulam / abbas / g mustafa)\n",
    "   * exact minimal budget breakdown in usd for each milestone (summing to remaining funds)\n",
    "   * 6 quick checks to validate progress (metrics like first 500 users, wer, tts mos, signup rate)\n",
    "   * list 5 fallback moves if milestones slip\n",
    "4. finish with 7 immediate actions to start this week with owners and est hrs\n",
    "\n",
    "### ✅ Reflection Question 💡\n",
    "How could CoT and ToT prompting help you **solve complex problems** or **spark creativity** in your workplace?\n",
    "CoT helps me solve complex problems step by step while ToT sparks creativity by exploring multiple ideas before picking the best one\n"
   ]
  },
  {
   "cell_type": "markdown",
   "id": "3aa89130-714f-4edd-9fd0-e5e4d261e6e0",
   "metadata": {},
   "source": [
    "## **Tackle Complex Projects with Prompt Chaining ⏰**"
   ]
  },
  {
   "cell_type": "markdown",
   "id": "7f5adb6e-13c2-400e-a8c3-5050208cfff5",
   "metadata": {},
   "source": [
    "### Exercise: Try It Yourself ❗\n",
    "1. Pick a **multi-step project** (e.g., event planning, report writing).  \n",
    "2. Write a prompt to generate an initial output (e.g., an outline or plan).  \n",
    "3. Chain a second prompt to expand a specific part of the output.  \n",
    "4. Chain a third prompt to create an activity or visual based on the expanded output.  \n",
    "   - Example: *“Create a project plan for a team event, expand the agenda into a detailed schedule, then suggest a themed icebreaker activity.”*  \n",
    "\n",
    "📌 **Key Takeaway:**  \n",
    "Prompt chaining breaks complex tasks into manageable steps, with each prompt building on the last to create a polished final product."
   ]
  },
  {
   "cell_type": "markdown",
   "id": "980fe61a-c53b-4b03-a228-9afdcae74c75",
   "metadata": {},
   "source": [
    "## Answer: Designing SindhuGPT’s Onboarding Campaign  \n",
    "\n",
    "### Step 1: Generate an Outline  \n",
    "**Prompt:**  \n",
    "I’m building SindhuGPT, the first AI voice assistant for Sindhi speakers. Create an outline for a community onboarding campaign to introduce the product to 30M Sindhi speakers. Focus on awareness, education, and trust.  \n",
    "\n",
    "**Output:**  \n",
    "- Introduce SindhuGPT and its purpose  \n",
    "- Highlight the problem of digital exclusion  \n",
    "- Show key features (STT, TTS, Voice Assistant)  \n",
    "- Demonstrate real-life use cases (education, farming, healthcare)  \n",
    "- Provide easy steps to download/join waitlist  \n",
    "- Build trust with cultural pride and community values  \n",
    "\n",
    "---\n",
    "\n",
    "### Step 2: Expand a Section  \n",
    "**Prompt:**  \n",
    "Using the outline above, expand the “real-life use cases” section into a 150-word paragraph highlighting how SindhuGPT helps farmers, students, and families.  \n",
    "\n",
    "**Output:**  \n",
    "SindhuGPT helps a farmer in Sindh ask about crop diseases in Sindhi, a student translate homework into English, and families connect with government services using their mother tongue. By breaking the language barrier, SindhuGPT ensures everyday problems are solved through AI in a culturally relevant way.  \n",
    "\n",
    "---\n",
    "\n",
    "### Step 3: Create an Activity  \n",
    "**Prompt:**  \n",
    "Based on the expanded use cases, create a short 3-question quiz to test if community members understand SindhuGPT’s value.  \n",
    "\n",
    "**Output:**  \n",
    "1. How can SindhuGPT support a farmer?  \n",
    "A) By giving weather and crop advice in Sindhi  \n",
    "B) By providing loans  \n",
    "C) By selling seeds  \n",
    "\n",
    "2. How does SindhuGPT help students?  \n",
    "A) By doing their homework  \n",
    "B) By translating and assisting learning  \n",
    "C) By providing free internet  \n",
    "\n",
    "3. What is SindhuGPT’s main mission?  \n",
    "A) To replace Sindhi  \n",
    "B) To preserve and promote Sindhi with AI  \n",
    "C) To teach English only  \n",
    "\n",
    "---\n",
    "\n",
    "### Step 4: Design a Visual  \n",
    "**Prompt:**  \n",
    "Create a description for SindhuGPT’s official logo that blends Sindhi cultural identity with modern AI elements.  \n",
    "\n",
    "**Output:**  \n",
    "![SindhuGPT Logo](sindhugpt.png)\n"
   ]
  },
  {
   "cell_type": "markdown",
   "id": "4eb84c06-084f-48aa-b839-d318365bd51e",
   "metadata": {},
   "source": [
    "### Exercise: Try It Yourself ❗\n",
    "1. Pick a **multi-step project** (e.g., event planning, report writing).  \n",
    "2. Write a prompt to generate an initial output (e.g., an outline or plan).  \n",
    "3. Chain a second prompt to expand a specific part of the output.  \n",
    "4. Chain a third prompt to create an activity or visual based on the expanded output.  \n",
    "   - Example: *“Create a project plan for a team event, expand the agenda into a detailed schedule, then suggest a themed icebreaker activity.”*  "
   ]
  },
  {
   "cell_type": "markdown",
   "id": "d312d6e5-73b2-49be-ab2a-99a675716a26",
   "metadata": {},
   "source": [
    "Prompt:\n",
    "you are an experienced product and ops analyst. i'm building SindhuGPT and we have $3,300 and 3 months to deliver an MVP (whisper-tuned sindhi stt, one natural sindhi tts voice, simple android prototype, backend + 500 beta users). explain your reasoning step-by-step\n",
    "\n",
    "list assumptions (annotator rate, voice actor fee, cloud gpu $/hr, dev hourly rate, exchange pk r to usd)\n",
    "\n",
    "break project into components and give cost per component with quick calc\n",
    "\n",
    "propose 3 budget options (conservative / balanced / aggressive) with exact usd numbers\n",
    "\n",
    "for balanced option give weekly milestones for 12 weeks with owners and main deliverable each 3 week chunk\n",
    "\n",
    "recommend one option and give 7 immediate actions to start in next 48 hours with owners and est hours\n",
    "keep language simple and show calculations so i can paste in team notes"
   ]
  },
  {
   "cell_type": "markdown",
   "id": "e3364a68-28d2-4feb-add4-8dead6dc9b6a",
   "metadata": {},
   "source": [
    "#### Exercise: Try It Yourself ❗\n",
    "1. Pick a **creative task** (e.g., campaign ideas, visual design).  \n",
    "2. Write a prompt asking AI to propose three distinct solutions and evaluate them.  \n",
    "   - Example: *“Suggest three themes for a product launch event, evaluate each for cost and appeal, and recommend one.”*  \n",
    "3. Follow up by refining the recommended option.  "
   ]
  },
  {
   "cell_type": "markdown",
   "id": "c5a1713e-055b-41b0-8fcb-72eef0a11845",
   "metadata": {},
   "source": [
    "prompt: you are a creative strategist. for SindhuGPT design three distinct cover image concepts for the onboarding course. each must use art supplies and a computer but in different styles: cartoonish, photorealistic, minimalist. for each concept give a short visual description, one pro, one con. then recommend which style to use for community onboarding and why."
   ]
  },
  {
   "cell_type": "markdown",
   "id": "01004c3b-d66d-4be3-8975-4fcfd3eab71b",
   "metadata": {},
   "source": [
    "#### Exercise: Try It Yourself ❗\n",
    "1. Choose a **complex project** (e.g., product launch, training program).  \n",
    "2. Write a ToT prompt to explore three options.  \n",
    "3. Write a CoT prompt to refine the best option with step-by-step reasoning.  "
   ]
  },
  {
   "cell_type": "markdown",
   "id": "d9736039-4440-42b9-a66a-84570791af80",
   "metadata": {},
   "source": [
    "### ToT"
   ]
  },
  {
   "cell_type": "markdown",
   "id": "e4186985-f75c-4e9a-ac7f-4d88784cf967",
   "metadata": {},
   "source": [
    "you are a strategy explorer. for SindhuGPT propose three onboarding course formats we can run to reach users fast: \n",
    "1) in-person community workshops \n",
    "2) virtual self-paced course (app + web) \n",
    "3) hybrid (local workshops + online followups). \n",
    "\n",
    "for each format give:\n",
    "- one line description\n",
    "- 4 pros and 3 cons\n",
    "- rough cost estimate in usd and approx pkr\n",
    "- estimated time to run (weeks)\n",
    "- who should lead it (me ghulam / abbas / g mustafa)\n",
    "\n",
    "at the end recommend which format is best for building trust quickly with limited team and explain in one sentence.\n"
   ]
  },
  {
   "cell_type": "markdown",
   "id": "86c3ed97-6b29-404a-b0d6-9d3499b08eb2",
   "metadata": {},
   "source": [
    "### CoT"
   ]
  },
  {
   "cell_type": "markdown",
   "id": "d626534d-ada5-4357-a289-0874e5f504b9",
   "metadata": {},
   "source": [
    "you are a pragmatic planner. we picked the hybrid onboarding course for SindhuGPT.\n",
    "explain your reasoning step-by-step then give a detailed 8 week execution plan.\n",
    "\n",
    "1) list assumptions (per-workshop venue cost, travel, materials, per-user followup cost, app page dev hrs)\n",
    "2) step-by-step reasoning why hybrid balances trust and scale\n",
    "3) week-by-week plan (weeks 1..8) with tasks, owner (ghulam / abbas / g mustafa), est hours per task and small budget per week (usd + pkr)\n",
    "4) success metrics to track and how to measure them\n",
    "5) 3 fallback options if workshops fail\n",
    "6) 7 immediate actions to start in next 48 hours with owners and est hrs\n",
    "\n",
    "show calculations and be explicit so i can paste into team notes\n"
   ]
  },
  {
   "cell_type": "markdown",
   "id": "d322e80a-b231-48c0-ac6d-a4cbd933aef2",
   "metadata": {},
   "source": [
    "## **Practice Prompt Chaining**\n",
    "\n",
    "### Exercises: Try It Yourself ❗\n",
    "\n",
    "#### Exercise 1: Build a Project Step-by-Step\n",
    "1. Pick a multi-step project (e.g., marketing campaign, event planning).  \n",
    "2. Chain three prompts: outline, expand a section, create an activity/visual.  \n",
    "   - Example: *Outline a team training program, expand one module, suggest an interactive exercise.*\n",
    "#### prompt:\n",
    "Outline a SindhuGPT community onboarding event, expand one session into detailed content, then suggest a visual or interactive activity for participants.\n",
    "\n",
    "#### Exercise 2: CoT for Clarity\n",
    "1. Choose a task requiring logic (e.g., budgeting, scheduling).  \n",
    "2. Prompt AI to explain its reasoning step-by-step.  \n",
    "   - Example: *Allocate a 2,000 budget for a team event. Explain your reasoning*\n",
    "#### prompt:\n",
    "Allocate a $1,000 budget for SindhuGPT’s first community workshop. Explain your reasoning step-by-step.\n",
    "\n",
    "\n",
    "#### Exercise 3: ToT for Creativity\n",
    "1. Pick a creative task (e.g., branding, content ideas).  \n",
    "2. Prompt AI to propose three solutions and evaluate them.  \n",
    "   - Example: *“Suggest three social media campaign ideas. Evaluate each for engagement.”*\n",
    "#### prompt:\n",
    "Suggest three logo concepts for SindhuGPT, evaluate each for clarity and cultural appeal, and recommend the best.\n",
    "\n",
    "#### Exercise 4: Combine CoT and ToT\n",
    "1. Use ToT to explore options for a project.  \n",
    "2. Use CoT to refine the best option with detailed reasoning.  \n",
    "   - Example: *“Propose three event formats, evaluate them, then plan the best one with step-by-step reasoning.”*\n",
    "#### prompt\n",
    "Propose three outreach strategies for SindhuGPT’s pilot launch, evaluate them, then create a detailed step-by-step plan for the best one.\n",
    "\n",
    "### ✅ Reflection Question 💡\n",
    "How could prompt chaining help you **simplify a complex project** or **improve collaboration** in your workplace?  \n",
    "prompt chaining helps me break big projects into smaller steps making them easier to manage and collaborate on with others\n"
   ]
  },
  {
   "cell_type": "markdown",
   "id": "b52c8521-55cb-4fcd-b4d1-f18d91fd86a7",
   "metadata": {},
   "source": [
    "## ✨ Enlist AI as Your Thought Partner 🤝 ✨"
   ]
  },
  {
   "cell_type": "markdown",
   "id": "47ae9ed4-d2fa-4b12-adb7-a0ac6a3f9358",
   "metadata": {},
   "source": []
  },
  {
   "cell_type": "markdown",
   "id": "4fe6f8bf-a7b2-4fd7-bb10-9cc201b5dd4f",
   "metadata": {},
   "source": []
  },
  {
   "cell_type": "markdown",
   "id": "fd163713-ca72-401e-bea6-94da710792cd",
   "metadata": {},
   "source": []
  },
  {
   "cell_type": "markdown",
   "id": "9d01ed05-d41d-40eb-b6d9-32eb0489ee2d",
   "metadata": {},
   "source": []
  },
  {
   "cell_type": "markdown",
   "id": "06d4906f-5ef5-42d4-b06f-0dec97cb2528",
   "metadata": {},
   "source": []
  },
  {
   "cell_type": "markdown",
   "id": "383b56cd-1fad-45de-9a38-48d54ea943a5",
   "metadata": {},
   "source": []
  },
  {
   "cell_type": "markdown",
   "id": "10c2a028-d9c8-4a09-8592-9d45bda6a5cd",
   "metadata": {},
   "source": []
  },
  {
   "cell_type": "code",
   "execution_count": null,
   "id": "1c145561-acc0-41f5-82ef-bee8b6d85379",
   "metadata": {},
   "outputs": [],
   "source": []
  },
  {
   "cell_type": "code",
   "execution_count": null,
   "id": "b707f170-d739-4144-a1aa-0662edb33e78",
   "metadata": {},
   "outputs": [],
   "source": []
  }
 ],
 "metadata": {
  "kernelspec": {
   "display_name": "Python 3 (ipykernel)",
   "language": "python",
   "name": "python3"
  },
  "language_info": {
   "codemirror_mode": {
    "name": "ipython",
    "version": 3
   },
   "file_extension": ".py",
   "mimetype": "text/x-python",
   "name": "python",
   "nbconvert_exporter": "python",
   "pygments_lexer": "ipython3",
   "version": "3.11.9"
  }
 },
 "nbformat": 4,
 "nbformat_minor": 5
}
