{
 "cells": [
  {
   "cell_type": "markdown",
   "id": "908ada8a-3f20-4922-9d2c-1a6f22708a2b",
   "metadata": {},
   "source": [
    "# Recap: Start writing prompts like a pro"
   ]
  },
  {
   "cell_type": "code",
   "execution_count": null,
   "id": "62152594-6056-4479-a083-8de3eea49c41",
   "metadata": {},
   "outputs": [],
   "source": []
  }
 ],
 "metadata": {
  "kernelspec": {
   "display_name": "Python 3 (ipykernel)",
   "language": "python",
   "name": "python3"
  },
  "language_info": {
   "codemirror_mode": {
    "name": "ipython",
    "version": 3
   },
   "file_extension": ".py",
   "mimetype": "text/x-python",
   "name": "python",
   "nbconvert_exporter": "python",
   "pygments_lexer": "ipython3",
   "version": "3.11.9"
  }
 },
 "nbformat": 4,
 "nbformat_minor": 5
}
