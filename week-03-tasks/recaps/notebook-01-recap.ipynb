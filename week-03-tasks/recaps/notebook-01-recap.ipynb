{
 "cells": [
  {
   "cell_type": "markdown",
   "id": "908ada8a-3f20-4922-9d2c-1a6f22708a2b",
   "metadata": {},
   "source": [
    "# Recap: Start writing prompts like a pro"
   ]
  },
  {
   "cell_type": "markdown",
   "id": "62152594-6056-4479-a083-8de3eea49c41",
   "metadata": {},
   "source": [
    "recap notebook 1\n",
    "\n",
    "we started with prompting basics … like what is prompting (just telling ai what to do in normal words)\n",
    "\n",
    "learned diff styles:\n",
    "\n",
    "zero-shot → just instruction, no example. fast but generic.\n",
    "\n",
    "one-shot → give one example, helps ai follow style.\n",
    "\n",
    "few-shot → 2–5 examples, gives ai better idea of structure but still some creativity.\n",
    "\n",
    "we saw how to make prompts better:\n",
    "\n",
    "task → what exactly u want (write, explain, create etc)\n",
    "\n",
    "persona → who ai should act as (teacher, critic, chef etc)\n",
    "\n",
    "format → how answer should look (table, bullets, para)\n",
    "\n",
    "context → background info, goals, constraints\n",
    "\n",
    "references → examples to guide tone or style\n",
    "\n",
    "evaluation → always check output, fact-check, refine\n",
    "\n",
    "also talked abt responsible use of gen ai:\n",
    "\n",
    "align with ur goals n policies (dont use if its against org rules)\n",
    "\n",
    "don’t put sensitive/private data in free tools\n",
    "\n",
    "always fact-check coz ai makes errors or hallucinations\n",
    "\n",
    "iterate ur prompts (clearer = better)\n",
    "\n",
    "watch out for bias → use inclusive language\n",
    "\n",
    "human in the loop = u still responsible, ai not a replacement\n",
    "\n",
    "hallucinations → outputs that are wrong/fake\n",
    "\n",
    "can be ok in creative stuff (like stories) but dangerous in factual stuff\n",
    "\n",
    "fix it by fact-checking, using reliable sources, clearer prompts, or asking experts\n",
    "\n",
    "did a quiz at the end → covered what prompting is, identifying tasks, constraints like calories in menu, multimodal prompting (audio → visual), human-in-the-loop, and refining broad prompts like “create dataset”"
   ]
  }
 ],
 "metadata": {
  "kernelspec": {
   "display_name": "Python 3 (ipykernel)",
   "language": "python",
   "name": "python3"
  },
  "language_info": {
   "codemirror_mode": {
    "name": "ipython",
    "version": 3
   },
   "file_extension": ".py",
   "mimetype": "text/x-python",
   "name": "python",
   "nbconvert_exporter": "python",
   "pygments_lexer": "ipython3",
   "version": "3.11.9"
  }
 },
 "nbformat": 4,
 "nbformat_minor": 5
}
