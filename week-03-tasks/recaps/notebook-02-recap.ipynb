{
 "cells": [
  {
   "cell_type": "markdown",
   "id": "ec43a4b8-fecd-46f8-b530-6a6700a11d2a",
   "metadata": {},
   "source": [
    "# 📒 Recap – Notebook 02  \n",
    "\n",
    "In **Notebook 02**, I worked through exercises on using AI for productivity, organization, and summarization. Here’s what I learned across all 12 exercises:  \n",
    "\n",
    "---\n",
    "\n",
    "## 🔑 Key Learnings  \n",
    "\n",
    "1. **AI in Scheduling & Tracking**  \n",
    "   - AI can create structured trackers (projects, events, vacations).  \n",
    "   - Adding constraints (e.g., “no more than 2 active tasks per owner”) helps ensure fairness and accuracy.  \n",
    "   - Exporting to tools like Google Sheets allows easy collaboration and formula automation.  \n",
    "\n",
    "2. **Meeting Summarization**  \n",
    "   - Grouping meeting minutes by topics makes them easier to review.  \n",
    "   - Key decisions + assigned action items give clarity and accountability.  \n",
    "\n",
    "3. **Summarizing Long Documents**  \n",
    "   - Learned multiple approaches: outlines, audience-specific summaries, and even creative styles.  \n",
    "   - Summaries should always be tailored to the **audience** (executives, clients, students, frontline staff).  \n",
    "   - Breaking big files into chunks and re-summarizing is a powerful method.  \n",
    "\n",
    "4. **Advanced Summarization Techniques**  \n",
    "   - Practiced **Chain of Density**:  \n",
    "     - Start broad → refine → condense → single sharp insight.  \n",
    "   - Iterative summarization helps eliminate fluff and highlight only the most essential ideas.  \n",
    "\n",
    "5. **Reflection Skills**  \n",
    "   - AI is not just about summarizing—it’s about applying the right format, style, and audience awareness.  \n",
    "   - Tailored outputs improve decision-making, save time, and increase understanding across teams.  \n",
    "\n",
    "---\n",
    "\n",
    "## ✅ Overall Takeaway  \n",
    "\n",
    "Notebook 02 helped me practice **practical AI use cases**:  \n",
    "- Automating repetitive tasks (trackers, schedules).  \n",
    "- Summarizing information effectively.  \n",
    "- Using iteration to refine outputs.  \n",
    "- Always focusing on **audience, clarity, and constraints**.  \n",
    "\n",
    "This built a strong foundation for using AI as a **research assistant, meeting helper, and document summarizer** in real-world tasks.  \n"
   ]
  },
  {
   "cell_type": "code",
   "execution_count": null,
   "id": "5212ddc2",
   "metadata": {
    "vscode": {
     "languageId": "python"
    }
   },
   "outputs": [],
   "source": []
  }
 ],
 "metadata": {
  "kernelspec": {
   "display_name": "",
   "name": ""
  },
  "language_info": {
   "name": ""
  }
 },
 "nbformat": 4,
 "nbformat_minor": 5
}
