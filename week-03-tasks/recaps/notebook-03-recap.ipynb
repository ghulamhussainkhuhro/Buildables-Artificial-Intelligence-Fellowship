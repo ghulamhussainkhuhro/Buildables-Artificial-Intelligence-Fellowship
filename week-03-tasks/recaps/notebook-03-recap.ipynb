{
 "cells": [
  {
   "cell_type": "markdown",
   "id": "f2ffe61d-1904-4305-9539-a9326707cbab",
   "metadata": {},
   "source": [
    "# Recap Notebook 3\n",
    "\n",
    "\n",
    "---\n",
    "\n",
    "* learned prompt chaining: break big tasks into small prompts (outline → expand → activity) so outputs are easier to control\n",
    "* used Chain-of-Thought (CoT) to make the model show reasoning step-by-step for decisions and budgets\n",
    "* used Tree-of-Thought (ToT) to explore multiple creative paths and compare them before choosing one\n",
    "* practised building agents: AgentSim (roleplay + feedback) and AgentX (expert feedback) with stop phrases and takeaways\n",
    "* wrote meta-prompts and started a prompt library for reusing/refining prompts (v1, v2, notes)\n",
    "* applied everything to a real project (SindhuGPT): planning mvp, outreach, onboarding, logo and budget prompts\n",
    "* tooling notes: use LangChain + vector DB (FAISS/Pinecone) for long chains and storing intermediates, Streamlit for demos\n",
    "* main takeaway: chain + inspect + iterate — humans must review outputs, dont blindly trust models\n",
    "\n",
    "\n"
   ]
  },
  {
   "cell_type": "markdown",
   "id": "b9da6ccd",
   "metadata": {},
   "source": []
  }
 ],
 "metadata": {
  "kernelspec": {
   "display_name": "",
   "name": ""
  },
  "language_info": {
   "name": ""
  }
 },
 "nbformat": 4,
 "nbformat_minor": 5
}
